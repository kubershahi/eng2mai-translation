{
 "cells": [
  {
   "cell_type": "markdown",
   "metadata": {},
   "source": [
    "## Notebook for push finetuned models\n"
   ]
  },
  {
   "cell_type": "code",
   "execution_count": 5,
   "metadata": {},
   "outputs": [],
   "source": [
    "import torch \n",
    "from peft import PeftModel\n",
    "from transformers import AutoModelForSeq2SeqLM, AutoTokenizer\n",
    "from huggingface_hub import whoami, HfFolder, create_repo, notebook_login"
   ]
  },
  {
   "cell_type": "markdown",
   "metadata": {},
   "source": [
    "### Model 1: Finetuned Helsinki-NLP/opus-mt-en-hi\n",
    "\n",
    "Details\n",
    "\n",
    "- finetuned using LoRA for one epoch\n",
    "- finetuned on BPCC English-Maithili Gen dataset: 60K training examples\n",
    "- Epoch: 1\n",
    "- finetuning time: 1 hr+\n",
    "- Inference time (test split): 1.5 hr+\n",
    "- chrf++ score on test split: 5.03 (very low)\n",
    "- Inference time (IN22 Gen: 1024 examples): 1.5 hr+\n",
    "- chrf++ score on IN22 Eng-Mai benchmark: 5.13 (very low)\n"
   ]
  },
  {
   "cell_type": "code",
   "execution_count": 6,
   "metadata": {},
   "outputs": [
    {
     "name": "stdout",
     "output_type": "stream",
     "text": [
      "Parameter size: 76676096\n",
      "Parameter size after merging: 76381184\n"
     ]
    }
   ],
   "source": [
    "# load the model and tokenizer\n",
    "model_path = \"./finetuned/epoch1\"\n",
    "finetuned_tokenizer = AutoTokenizer.from_pretrained(model_path)\n",
    "finetuned_model = AutoModelForSeq2SeqLM.from_pretrained(model_path)\n",
    "print(\"Parameter size:\", finetuned_model.num_parameters())\n",
    "\n",
    "# load the merged model as peft model\n",
    "merged_model = PeftModel.from_pretrained(finetuned_model, model_path)\n",
    "\n",
    "# merge the LoRA weights into the model\n",
    "merged_model.merge_and_unload()\n",
    "\n",
    "# affter merging, get the parameter size\n",
    "print(\"Parameter size after merging:\", merged_model.num_parameters())"
   ]
  },
  {
   "cell_type": "code",
   "execution_count": 8,
   "metadata": {},
   "outputs": [
    {
     "data": {
      "application/vnd.jupyter.widget-view+json": {
       "model_id": "8bfd56b0916e4f5ab8cd795f69c6ff0a",
       "version_major": 2,
       "version_minor": 0
      },
      "text/plain": [
       "adapter_model.safetensors:   0%|          | 0.00/40.0 [00:00<?, ?B/s]"
      ]
     },
     "metadata": {},
     "output_type": "display_data"
    },
    {
     "data": {
      "application/vnd.jupyter.widget-view+json": {
       "model_id": "a37271b10c784af3abfcc705679b26e0",
       "version_major": 2,
       "version_minor": 0
      },
      "text/plain": [
       "target.spm:   0%|          | 0.00/1.07M [00:00<?, ?B/s]"
      ]
     },
     "metadata": {},
     "output_type": "display_data"
    },
    {
     "data": {
      "text/plain": [
       "CommitInfo(commit_url='https://huggingface.co/kubershahi/Helsinki-NLP-opus-mt-eng-mai-lora-epoch1/commit/e785e479f690a63b371a3f8b9b031bdb5f850f53', commit_message='Upload tokenizer', commit_description='', oid='e785e479f690a63b371a3f8b9b031bdb5f850f53', pr_url=None, repo_url=RepoUrl('https://huggingface.co/kubershahi/Helsinki-NLP-opus-mt-eng-mai-lora-epoch1', endpoint='https://huggingface.co', repo_type='model', repo_id='kubershahi/Helsinki-NLP-opus-mt-eng-mai-lora-epoch1'), pr_revision=None, pr_num=None)"
      ]
     },
     "execution_count": 8,
     "metadata": {},
     "output_type": "execute_result"
    }
   ],
   "source": [
    "repo_name = \"Helsinki-NLP-opus-mt-eng-mai-lora-epoch1\"\n",
    "create_repo(repo_name)\n",
    "merged_model.push_to_hub(repo_name)\n",
    "finetuned_tokenizer.push_to_hub(repo_name)"
   ]
  },
  {
   "cell_type": "markdown",
   "metadata": {},
   "source": [
    "### Model 2: Finetuned Helsinki-NLP/opus-mt-en-hi\n",
    "\n",
    "Details\n",
    "\n",
    "- finetuned using LoRA for two epoch\n",
    "- finetuned on BPCC English-Maithili Gen dataset: 60K training examples\n",
    "- Epoch: 2\n",
    "- finetuning time: 2 hr+\n",
    "- Inference time (test split): 1 hr\n",
    "- chrf++ score on test split: 6.7 (very low)\n",
    "- Inference time (IN22 Gen: 1024 examples): 1 hr\n",
    "- chrf++ score on IN22 Eng-Mai benchmark: 6.3 (very low)\n"
   ]
  },
  {
   "cell_type": "code",
   "execution_count": 9,
   "metadata": {},
   "outputs": [
    {
     "name": "stdout",
     "output_type": "stream",
     "text": [
      "Parameter size: 77265920\n",
      "Parameter size after merging: 76381184\n"
     ]
    }
   ],
   "source": [
    "# load the model and tokenizer\n",
    "model_path = \"./finetuned/epoch2\"\n",
    "finetuned_tokenizer = AutoTokenizer.from_pretrained(model_path)\n",
    "finetuned_model = AutoModelForSeq2SeqLM.from_pretrained(model_path)\n",
    "print(\"Parameter size:\", finetuned_model.num_parameters())\n",
    "\n",
    "# load the merged model as peft model\n",
    "merged_model = PeftModel.from_pretrained(finetuned_model, model_path)\n",
    "\n",
    "# merge the LoRA weights into the model\n",
    "merged_model.merge_and_unload()\n",
    "\n",
    "# affter merging, get the parameter size\n",
    "print(\"Parameter size after merging:\", merged_model.num_parameters())"
   ]
  },
  {
   "cell_type": "code",
   "execution_count": 10,
   "metadata": {},
   "outputs": [
    {
     "data": {
      "application/vnd.jupyter.widget-view+json": {
       "model_id": "37415340691a4150ba6f8c0753935118",
       "version_major": 2,
       "version_minor": 0
      },
      "text/plain": [
       "adapter_model.safetensors:   0%|          | 0.00/40.0 [00:00<?, ?B/s]"
      ]
     },
     "metadata": {},
     "output_type": "display_data"
    },
    {
     "data": {
      "application/vnd.jupyter.widget-view+json": {
       "model_id": "756f99b81c2f4705b1a35ba76038e1a3",
       "version_major": 2,
       "version_minor": 0
      },
      "text/plain": [
       "README.md:   0%|          | 0.00/5.17k [00:00<?, ?B/s]"
      ]
     },
     "metadata": {},
     "output_type": "display_data"
    },
    {
     "data": {
      "application/vnd.jupyter.widget-view+json": {
       "model_id": "fab832ca98ca47aea9c3b31a5be00af6",
       "version_major": 2,
       "version_minor": 0
      },
      "text/plain": [
       "target.spm:   0%|          | 0.00/1.07M [00:00<?, ?B/s]"
      ]
     },
     "metadata": {},
     "output_type": "display_data"
    },
    {
     "data": {
      "text/plain": [
       "CommitInfo(commit_url='https://huggingface.co/kubershahi/Helsinki-NLP-opus-mt-eng-mai-lora-epoch2/commit/f698287c44dd70176111fae6391a28a43c5f0315', commit_message='Upload tokenizer', commit_description='', oid='f698287c44dd70176111fae6391a28a43c5f0315', pr_url=None, repo_url=RepoUrl('https://huggingface.co/kubershahi/Helsinki-NLP-opus-mt-eng-mai-lora-epoch2', endpoint='https://huggingface.co', repo_type='model', repo_id='kubershahi/Helsinki-NLP-opus-mt-eng-mai-lora-epoch2'), pr_revision=None, pr_num=None)"
      ]
     },
     "execution_count": 10,
     "metadata": {},
     "output_type": "execute_result"
    }
   ],
   "source": [
    "repo_name = \"Helsinki-NLP-opus-mt-eng-mai-lora-epoch2\"\n",
    "create_repo(repo_name)\n",
    "merged_model.push_to_hub(repo_name)\n",
    "finetuned_tokenizer.push_to_hub(repo_name)"
   ]
  },
  {
   "cell_type": "code",
   "execution_count": null,
   "metadata": {},
   "outputs": [],
   "source": []
  }
 ],
 "metadata": {
  "kernelspec": {
   "display_name": "work",
   "language": "python",
   "name": "python3"
  },
  "language_info": {
   "codemirror_mode": {
    "name": "ipython",
    "version": 3
   },
   "file_extension": ".py",
   "mimetype": "text/x-python",
   "name": "python",
   "nbconvert_exporter": "python",
   "pygments_lexer": "ipython3",
   "version": "3.9.20"
  }
 },
 "nbformat": 4,
 "nbformat_minor": 4
}
