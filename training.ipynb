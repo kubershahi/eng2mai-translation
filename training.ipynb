{
 "cells": [
  {
   "cell_type": "code",
   "execution_count": 14,
   "metadata": {},
   "outputs": [],
   "source": [
    "import torch\n",
    "device = torch.device(\"mps\")\n",
    "\n",
    "import evaluate\n",
    "import sacrebleu\n",
    "from tqdm import tqdm\n",
    "\n",
    "from datasets import Dataset\n",
    "from peft import LoraConfig, get_peft_model\n",
    "from transformers import AutoModelForSeq2SeqLM, AutoTokenizer, Seq2SeqTrainer, Seq2SeqTrainingArguments"
   ]
  },
  {
   "cell_type": "markdown",
   "metadata": {},
   "source": [
    "### Part 1) Preparing and tokenizing the training datasets\n"
   ]
  },
  {
   "cell_type": "code",
   "execution_count": 3,
   "metadata": {},
   "outputs": [],
   "source": [
    "# function to prepare the training and any other dataset\n",
    "def prepare_data(eng_file_path, mai_file_path, data_type):\n",
    "    # load the english and maithili texts files\n",
    "    with open(eng_file_path, \"r\", encoding=\"utf-8\") as en_file:\n",
    "        eng_texts = en_file.readlines()\n",
    "\n",
    "    with open(mai_file_path, \"r\", encoding=\"utf-8\") as maithili_file:\n",
    "        mai_texts = maithili_file.readlines()\n",
    "\n",
    "    assert len(eng_texts) == len(mai_texts), \"The number of sentences in both files must be the same.\"\n",
    "\n",
    "    # clean the text files\n",
    "    eng_texts_cleaned = [text.strip() for text in eng_texts]\n",
    "    mai_texts_cleaned = [text.strip() for text in mai_texts]\n",
    "\n",
    "    # create the dataset\n",
    "    data = {\n",
    "        \"source_text\": eng_texts_cleaned,\n",
    "        \"target_text\": mai_texts_cleaned, \n",
    "    }\n",
    "    dataset = Dataset.from_dict(data)\n",
    "\n",
    "    # split the dataset into train, validation and test sets\n",
    "    if data_type == \"train\":\n",
    "        train_dataset, temp_dataset = dataset.train_test_split(test_size=0.1).values()\n",
    "        val_dataset, test_dataset = temp_dataset.train_test_split(test_size=0.5).values()\n",
    "\n",
    "        print(f\"Training set size: {len(train_dataset)}\")\n",
    "        print(f\"Validation set size: {len(val_dataset)}\")\n",
    "        print(f\"Test set size: {len(test_dataset)}\")\n",
    "\n",
    "        return train_dataset, val_dataset, test_dataset\n",
    "    elif data_type == \"test\":\n",
    "        return dataset\n",
    "\n",
    "# preprocessor function for tokenizer\n",
    "def preprocess_function(examples, tokenizer):\n",
    "    inputs = tokenizer(examples[\"source_text\"], truncation=True, padding=\"max_length\", max_length=128)\n",
    "    targets = tokenizer(examples[\"target_text\"], truncation=True, padding=\"max_length\", max_length=128)\n",
    "    inputs[\"labels\"] = targets[\"input_ids\"]\n",
    "    return inputs\n",
    "\n",
    "# function to tokenize the data\n",
    "def tokenize_dataset(dataset, tokenizer):\n",
    "    dataset_tokenized = dataset.map(lambda x: preprocess_function(x, tokenizer), batched=True)\n",
    "    return dataset_tokenized\n",
    "\n",
    "# function to move the dataset to device\n",
    "def move_to_device(batch):\n",
    "    # move each tensor in the batch to the MPS device\n",
    "    for key in batch:\n",
    "        batch[key] = torch.tensor(batch[key]).to(device)\n",
    "    return batch\n",
    "\n",
    "def save_dataset(dataset, file_path):\n",
    "    with open(file_path, \"w\", encoding=\"utf-8\") as f:\n",
    "        for line in dataset: \n",
    "            f.write(line + \"\\n\")\n"
   ]
  },
  {
   "cell_type": "code",
   "execution_count": 4,
   "metadata": {},
   "outputs": [
    {
     "name": "stdout",
     "output_type": "stream",
     "text": [
      "Training set size: 60892\n",
      "Validation set size: 3383\n",
      "Test set size: 3383\n"
     ]
    },
    {
     "data": {
      "application/vnd.jupyter.widget-view+json": {
       "model_id": "1902f95f144b4adf9a1b2ba2eedc9c2b",
       "version_major": 2,
       "version_minor": 0
      },
      "text/plain": [
       "Map:   0%|          | 0/60892 [00:00<?, ? examples/s]"
      ]
     },
     "metadata": {},
     "output_type": "display_data"
    },
    {
     "data": {
      "application/vnd.jupyter.widget-view+json": {
       "model_id": "bb4deb4882154395aa94004f2d422a7c",
       "version_major": 2,
       "version_minor": 0
      },
      "text/plain": [
       "Map:   0%|          | 0/3383 [00:00<?, ? examples/s]"
      ]
     },
     "metadata": {},
     "output_type": "display_data"
    },
    {
     "data": {
      "application/vnd.jupyter.widget-view+json": {
       "model_id": "c450d8db30ec49dba0cee0eed0b4b297",
       "version_major": 2,
       "version_minor": 0
      },
      "text/plain": [
       "Map:   0%|          | 0/3383 [00:00<?, ? examples/s]"
      ]
     },
     "metadata": {},
     "output_type": "display_data"
    }
   ],
   "source": [
    "# prepare the data\n",
    "train_dataset, val_dataset, test_dataset = prepare_data(\"./dataset/train/bpcc/train.eng_Latn\", \"./dataset/train/bpcc/train.mai_Deva\", \"train\")\n",
    "\n",
    "# tokenize the data\n",
    "tokenizer = AutoTokenizer.from_pretrained(\"Helsinki-NLP/opus-mt-en-hi\") # load the tokenizer\n",
    "train_dataset_tokenized = tokenize_dataset(train_dataset, tokenizer)\n",
    "val_dataset_tokenized = tokenize_dataset(val_dataset, tokenizer)\n",
    "test_dataset_tokenized = tokenize_dataset(test_dataset, tokenizer)\n",
    "\n",
    "# # saving dataset to csv (backup)\n",
    "# save_dataset(train_dataset[\"source_text\"], \"./dataset/training_split/bpcc/train.eng_Latn\")\n",
    "# save_dataset(train_dataset[\"target_text\"], \"./dataset/training_split/bpcc/train.mai_Deva\")\n",
    "# save_dataset(val_dataset[\"source_text\"], \"./dataset/training_split/bpcc/val.eng_Latn\")\n",
    "# save_dataset(val_dataset[\"target_text\"], \"./dataset/training_split/bpcc/val.mai_Deva\")\n",
    "save_dataset(test_dataset[\"source_text\"], \"./dataset/training_split/bpcc/test.eng_Latn\")\n",
    "save_dataset(test_dataset[\"target_text\"], \"./dataset/training_split/bpcc/test.mai_Deva\")\n"
   ]
  },
  {
   "cell_type": "code",
   "execution_count": 5,
   "metadata": {},
   "outputs": [
    {
     "name": "stdout",
     "output_type": "stream",
     "text": [
      "Source text:  The Division has been held by two generations of the Jenkins family.\n",
      "Target text:  ई प्रभाग जेनकिन्स परिवारक दू पीढ़ी द्वारा चलाओल गेल अछि।\n",
      "Source tokens:  ['▁The', '▁Division', '▁has', '▁been', '▁held', '▁by', '▁two', '▁generations', '▁of', '▁the', '▁J', 'en', 'kin', 's', '▁family', '.', '</s>', '<pad>', '<pad>', '<pad>', '<pad>', '<pad>', '<pad>', '<pad>', '<pad>', '<pad>', '<pad>', '<pad>', '<pad>', '<pad>', '<pad>', '<pad>', '<pad>', '<pad>', '<pad>', '<pad>', '<pad>', '<pad>', '<pad>', '<pad>', '<pad>', '<pad>', '<pad>', '<pad>', '<pad>', '<pad>', '<pad>', '<pad>', '<pad>', '<pad>', '<pad>', '<pad>', '<pad>', '<pad>', '<pad>', '<pad>', '<pad>', '<pad>', '<pad>', '<pad>', '<pad>', '<pad>', '<pad>', '<pad>', '<pad>', '<pad>', '<pad>', '<pad>', '<pad>', '<pad>', '<pad>', '<pad>', '<pad>', '<pad>', '<pad>', '<pad>', '<pad>', '<pad>', '<pad>', '<pad>', '<pad>', '<pad>', '<pad>', '<pad>', '<pad>', '<pad>', '<pad>', '<pad>', '<pad>', '<pad>', '<pad>', '<pad>', '<pad>', '<pad>', '<pad>', '<pad>', '<pad>', '<pad>', '<pad>', '<pad>', '<pad>', '<pad>', '<pad>', '<pad>', '<pad>', '<pad>', '<pad>', '<pad>', '<pad>', '<pad>', '<pad>', '<pad>', '<pad>', '<pad>', '<pad>', '<pad>', '<pad>', '<pad>', '<pad>', '<pad>', '<pad>', '<pad>', '<pad>', '<pad>', '<pad>', '<pad>', '<pad>', '<pad>']\n",
      "Target tokens:  ['▁', 'ई', '▁', 'प', '्', 'र', 'भ', 'ा', 'ग', '▁', 'जे', 'न', 'कि', 'न', '्', 'स', '▁', 'प', 'र', 'िव', 'ा', 'र', 'क', '▁', 'दू', '▁', 'प', 'ी', 'ढ', '़', 'ी', '▁', 'द', '्', 'व', 'ा', 'र', 'ा', '▁', 'च', 'ल', 'ा', 'ओ', 'ल', '▁', 'ग', 'े', 'ल', '▁', '<unk>', '</s>', '<pad>', '<pad>', '<pad>', '<pad>', '<pad>', '<pad>', '<pad>', '<pad>', '<pad>', '<pad>', '<pad>', '<pad>', '<pad>', '<pad>', '<pad>', '<pad>', '<pad>', '<pad>', '<pad>', '<pad>', '<pad>', '<pad>', '<pad>', '<pad>', '<pad>', '<pad>', '<pad>', '<pad>', '<pad>', '<pad>', '<pad>', '<pad>', '<pad>', '<pad>', '<pad>', '<pad>', '<pad>', '<pad>', '<pad>', '<pad>', '<pad>', '<pad>', '<pad>', '<pad>', '<pad>', '<pad>', '<pad>', '<pad>', '<pad>', '<pad>', '<pad>', '<pad>', '<pad>', '<pad>', '<pad>', '<pad>', '<pad>', '<pad>', '<pad>', '<pad>', '<pad>', '<pad>', '<pad>', '<pad>', '<pad>', '<pad>', '<pad>', '<pad>', '<pad>', '<pad>', '<pad>', '<pad>', '<pad>', '<pad>', '<pad>', '<pad>', '<pad>']\n"
     ]
    }
   ],
   "source": [
    "# checking the tokenization and vocab subwords\n",
    "print(\"Source text: \", train_dataset_tokenized[0][\"source_text\"])\n",
    "print(\"Target text: \", train_dataset_tokenized[0][\"target_text\"])\n",
    "print(\"Source tokens: \", tokenizer.convert_ids_to_tokens(train_dataset_tokenized[0][\"input_ids\"]))\n",
    "print(\"Target tokens: \", tokenizer.convert_ids_to_tokens(train_dataset_tokenized[0][\"labels\"]))\n",
    "\n",
    "# # save the tokenized output to a text file\n",
    "# with open(\"dataset/training_split/tokenized_output.txt\", \"w\", encoding=\"utf-8\") as f:\n",
    "#     f.write(train_dataset_tokenized[0][\"source_text\"] + \"\\n\")\n",
    "#     f.write(train_dataset_tokenized[0][\"target_text\"] + \"\\n\")\n",
    "#     f.write(\" \".join(tokenizer.convert_ids_to_tokens(train_dataset_tokenized[0][\"input_ids\"])) + \"\\n\")\n",
    "#     f.write(\" \".join(tokenizer.convert_ids_to_tokens(train_dataset_tokenized[0][\"labels\"])) + \"\\n\")"
   ]
  },
  {
   "cell_type": "markdown",
   "metadata": {},
   "source": [
    "### Part 2) Loading the pretrained model and testing its performance on benchmark datasets\n"
   ]
  },
  {
   "cell_type": "code",
   "execution_count": 63,
   "metadata": {},
   "outputs": [
    {
     "name": "stdout",
     "output_type": "stream",
     "text": [
      "Parameter Size (pretrained):  76381184\n",
      "English Text:  An appearance is a bunch of attributes related to the service person, like their shoes, clothes, tie, jewellery, hairstyle, make-up, watch, cosmetics, perfume, etc.\n",
      "Hindi Text:  सेवा संबंधी लोगों के लिए भेष कई गुणों का संयोजन है, जैसे कि उनके जूते, कपड़े, टाई, आभूषण, केश शैली, मेक-अप, घड़ी, कॉस्मेटिक, इत्र, आदि।\n",
      "Maithili Text:  रूप सर्विसवला व्यक्तिसँ सम्बन्धित बहुत रास लक्षणक समूह होयत छै जेना हुनक जूता, कपड़ा, टाई, गहना, केश, श्रृंगार, घड़ी, प्रसाधन सामग्री, सेंट इत्यादि।\n"
     ]
    },
    {
     "data": {
      "application/vnd.jupyter.widget-view+json": {
       "model_id": "fed96e88349d46a8986ebd06f409265a",
       "version_major": 2,
       "version_minor": 0
      },
      "text/plain": [
       "Map:   0%|          | 0/1024 [00:00<?, ? examples/s]"
      ]
     },
     "metadata": {},
     "output_type": "display_data"
    },
    {
     "data": {
      "application/vnd.jupyter.widget-view+json": {
       "model_id": "0b05c9fbf58f4bcd9fd99f74e7eeb851",
       "version_major": 2,
       "version_minor": 0
      },
      "text/plain": [
       "Map:   0%|          | 0/1024 [00:00<?, ? examples/s]"
      ]
     },
     "metadata": {},
     "output_type": "display_data"
    }
   ],
   "source": [
    "# load the model\n",
    "model_name = \"Helsinki-NLP/opus-mt-en-hi\"\n",
    "model = AutoModelForSeq2SeqLM.from_pretrained(model_name)\n",
    "print(\"Parameter Size (pretrained): \", model.num_parameters())\n",
    "\n",
    "# prepare the in22 benchmark datasets\n",
    "in22_hin_test = prepare_data(\"./dataset/test/IN22_test/gen/test.eng_Latn\", \"./dataset/test/IN22_test/gen/test.hin_Deva\", \"test\")\n",
    "in22_mai_test = prepare_data(\"./dataset/test/IN22_test/gen/test.eng_Latn\", \"./dataset//test/IN22_test/gen/test.mai_Deva\", \"test\")\n",
    "\n",
    "print(\"English Text: \", in22_hin_test[0][\"source_text\"])\n",
    "print(\"Hindi Text: \", in22_hin_test[0][\"target_text\"])\n",
    "print(\"Maithili Text: \", in22_mai_test[0][\"target_text\"])\n",
    "\n",
    "# tokenize the in22 benchmark datasets\n",
    "in22_hin_test_tokenized = tokenize_dataset(in22_hin_test, tokenizer)\n",
    "in22_mai_test_tokenized = tokenize_dataset(in22_mai_test, tokenizer)\n"
   ]
  },
  {
   "cell_type": "code",
   "execution_count": 7,
   "metadata": {},
   "outputs": [],
   "source": [
    "#testing the pretrained model on the in22 benchmark datasets\n",
    "\n",
    "# generate predictions for english to hindi\n",
    "def generate_predictions(model, tokenizer, test_dataset):\n",
    "    predictions = []\n",
    "    references = []\n",
    "    \n",
    "    model.eval()  # set model to evaluation mode\n",
    "    for example in tqdm(test_dataset, desc=\"Generating predictions: \", unit=\"example\"):\n",
    "        inputs = torch.tensor(example['input_ids']).unsqueeze(0).to(model.device)  # move input to device\n",
    "        attention_mask = torch.tensor(example['attention_mask']).unsqueeze(0).to(model.device) # move attention mask to device\n",
    "        \n",
    "        with torch.no_grad():\n",
    "            output = model.generate(inputs, attention_mask=attention_mask, max_length=128) # generate the output\n",
    "        \n",
    "        prediction = tokenizer.decode(output[0], skip_special_tokens=True) # decode the output\n",
    "        target = example['target_text']  # if the target is already a string\n",
    "        \n",
    "        predictions.append(prediction)\n",
    "        references.append(target)\n",
    "    \n",
    "    return predictions, references\n",
    "\n",
    "# define trainer for evaluation\n",
    "def trainer_evaluate(model, tokenizer, test_dataset):\n",
    "\n",
    "    eval_trainer = Seq2SeqTrainer(\n",
    "        model=model,\n",
    "        args = Seq2SeqTrainingArguments(\n",
    "            output_dir=\"./results/test/\",\n",
    "            per_device_eval_batch_size=32,\n",
    "            predict_with_generate=True,\n",
    "            disable_tqdm=False,\n",
    "        ), \n",
    "        eval_dataset=test_dataset,\n",
    "        tokenizer=tokenizer,\n",
    "    )\n",
    "\n",
    "    return eval_trainer\n",
    "\n",
    "def compute_chrf(predictions, references):\n",
    "    chrf = evaluate.load(\"chrf\")\n",
    "    chrf_score = chrf.compute(predictions=predictions, references=references, word_order=2)\n",
    "    return chrf_score\n"
   ]
  },
  {
   "cell_type": "code",
   "execution_count": 8,
   "metadata": {},
   "outputs": [
    {
     "data": {
      "application/vnd.jupyter.widget-view+json": {
       "model_id": "58c62ca7b2cd42ecbe1a211993e96bf2",
       "version_major": 2,
       "version_minor": 0
      },
      "text/plain": [
       "  0%|          | 0/32 [00:00<?, ?it/s]"
      ]
     },
     "metadata": {},
     "output_type": "display_data"
    }
   ],
   "source": [
    "# move the model and in22 testdata to the MPS device\n",
    "model = model.to(device)\n",
    "in22_hin_test_tokenized = in22_hin_test_tokenized.with_transform(move_to_device)\n",
    "\n",
    "# generate predictions for english to hindi\n",
    "eval_trainer = trainer_evaluate(model, tokenizer, in22_hin_test_tokenized)\n",
    "hin_pred, hin_lab, _ = eval_trainer.predict(in22_hin_test_tokenized)\n",
    "\n",
    "# decode the predictions and references\n",
    "hin_pred = tokenizer.batch_decode(hin_pred, skip_special_tokens=True)\n",
    "hin_ref = tokenizer.batch_decode(hin_lab, skip_special_tokens=True)"
   ]
  },
  {
   "cell_type": "code",
   "execution_count": 9,
   "metadata": {},
   "outputs": [
    {
     "name": "stdout",
     "output_type": "stream",
     "text": [
      "English Text:  An appearance is a bunch of attributes related to the service person, like their shoes, clothes, tie, jewellery, hairstyle, make-up, watch, cosmetics, perfume, etc.\n",
      "Hindi Reference:  एक फैशन सेवा व्यक्ति से संबंधित गुणों का एक गुच्छा है, उनके जूते, कपड़े, टाई, बाल शैली, बनाएँ- अप, उपभोग, इत्र, इत्र, इत्यादि.\n",
      "Hindi Prediction:  सेवा संबंधी लोगों के लिए  कई गों का संयोजन है, जैसे कि उनके , कपड़े, टाई, आ,  शैली, मेक-अप, ़ी, कॉस्मेटिक, इत्र, आ\n",
      "\n",
      "\n",
      "English Text:  Ajanta, located in the Aurangabad District of Maharashtra has twenty-nine caitya and vihara caves decorated with sculptures and paintings from the first century B.C.E. to the fifth century C.E.\n",
      "Hindi Reference:  पू. पहली सदी से लेकर सा. यु.\n",
      "Hindi Prediction:  महाराष्ट्र के औरंगाबाद जिले में स्थित ंता में उन्तीस ्य और ार गुफाएँ हैं जो पहली ाब्दी ई.पू. से ले कर पाीं ाब्दी ्वी तक की मूर\n",
      "\n",
      "\n",
      "chrF++ score for English-Hindi translation: 27.315089809805986\n",
      "chrF++ score for Hindi-Maithili overlap: 21.939127134885133\n"
     ]
    }
   ],
   "source": [
    "# print the predictions and references for comparison\n",
    "for i in range(2):\n",
    "    print(\"English Text: \", in22_hin_test[i][\"source_text\"])\n",
    "    print(\"Hindi Reference: \", hin_pred[i])\n",
    "    print(\"Hindi Prediction: \", hin_ref[i])\n",
    "    print(\"\\n\")\n",
    "\n",
    "# calculate chrF++ score for english to hindi translation\n",
    "chrf_score_hin = compute_chrf(hin_pred, hin_ref)\n",
    "print(f\"chrF++ score for English-Hindi translation: {chrf_score_hin['score']}\")\n",
    "\n",
    "# calculate chrF++ score for hindi to maithili overlap\n",
    "mai_ref = in22_mai_test[\"target_text\"]\n",
    "chrf_score_mai = compute_chrf(hin_ref, mai_ref)\n",
    "print(f\"chrF++ score for Hindi-Maithili overlap: {chrf_score_mai['score']}\")\n"
   ]
  },
  {
   "cell_type": "markdown",
   "metadata": {},
   "source": [
    "### Part 3) Setting up LoRA and fine tuning the pretrained model\n"
   ]
  },
  {
   "cell_type": "code",
   "execution_count": 64,
   "metadata": {},
   "outputs": [],
   "source": [
    "# funtion to configure LoRA\n",
    "def configure_lora(rank, lora_alpha, lora_dropout, task_type, bias, target_modules):\n",
    "\n",
    "    lora_config = LoraConfig(\n",
    "        r=rank,  # rank of the low-rank adaptation\n",
    "        lora_alpha=lora_alpha,  # scaling factor for the LoRA layers\n",
    "        lora_dropout=lora_dropout,  # dropout for the LoRA layers\n",
    "        task_type=task_type, # task type\n",
    "        bias=bias,  # set bias as 'none', 'all', or 'lora_only'\n",
    "        target_modules=target_modules  # specify the target modules\n",
    "    )\n",
    "\n",
    "    return lora_config\n",
    "\n",
    "# function to define training arguments\n",
    "def train_args(output_dir, eval_stra, learning_r, batch_size, grad_step, num_train_epochs, \n",
    "            save_steps, logging_dir, logging_steps, save_total_limit):\n",
    "\n",
    "    training_args = Seq2SeqTrainingArguments(\n",
    "        output_dir=output_dir,  # directory to save results\n",
    "        eval_strategy=eval_stra,  # strategy for evaluation\n",
    "        learning_rate=learning_r,  # learnin rate for fine-tuning\n",
    "        per_device_train_batch_size=batch_size,  # batch size\n",
    "        gradient_accumulation_steps= grad_step, # step for backpropagation\n",
    "        num_train_epochs=num_train_epochs,  # number of training epochs\n",
    "        save_steps=save_steps,  # save checkpoints after this many steps\n",
    "        logging_dir=logging_dir,  # directory for logs\n",
    "        logging_steps=logging_steps, # log after this many steps\n",
    "        save_total_limit=save_total_limit,  # limit number of saved checkpoints\n",
    "    )\n",
    "\n",
    "    return training_args\n",
    "\n",
    "# function to define the training trainer\n",
    "def trainer_train(model, training_args, train_dataset, val_dataset, tokenizer):\n",
    "\n",
    "    trainer = Seq2SeqTrainer(\n",
    "        model=model,  # model to be fine-tuned\n",
    "        args=training_args,  # training arguments\n",
    "        train_dataset=train_dataset,  # tokenized training dataset\n",
    "        eval_dataset=val_dataset, # tokenized validation dataset\n",
    "        tokenizer=tokenizer  # tokenizer for tokenization\n",
    "    )\n",
    "\n",
    "    return trainer\n",
    "\n",
    "# function to print the trainable parameters\n",
    "def get_trainable_parameters(model):\n",
    "    trainable_params = 0\n",
    "    all_param = 0\n",
    "    for _, param in model.named_parameters():\n",
    "        all_param += param.numel()\n",
    "        if param.requires_grad:\n",
    "            trainable_params += param.numel()\n",
    "    print(\n",
    "        f\"After adding LoRA: Trainable Params: {trainable_params}, All Params: {all_param},  Trainable %: {100 * trainable_params / all_param:.2f}\"\n",
    "    )"
   ]
  },
  {
   "cell_type": "code",
   "execution_count": null,
   "metadata": {},
   "outputs": [
    {
     "name": "stdout",
     "output_type": "stream",
     "text": [
      "Before adding LoRA, All Params: 76381184\n",
      "After adding LoRA: Trainable Params: 912384, All Params: 77265920,  Trainable %: 1.18\n",
      "Finetuning the model using LoRA...\n"
     ]
    },
    {
     "data": {
      "application/vnd.jupyter.widget-view+json": {
       "model_id": "dfa1a8995eb848c39706c7cb4e11dee5",
       "version_major": 2,
       "version_minor": 0
      },
      "text/plain": [
       "  0%|          | 0/3806 [00:00<?, ?it/s]"
      ]
     },
     "metadata": {},
     "output_type": "display_data"
    },
    {
     "name": "stdout",
     "output_type": "stream",
     "text": [
      "{'loss': 3.2021, 'grad_norm': 0.3349359631538391, 'learning_rate': 4.343142406726222e-05, 'epoch': 0.26}\n",
      "{'loss': 2.3476, 'grad_norm': 0.4420273005962372, 'learning_rate': 3.686284813452444e-05, 'epoch': 0.53}\n"
     ]
    },
    {
     "name": "stderr",
     "output_type": "stream",
     "text": [
      "/opt/miniconda3/envs/work/lib/python3.9/site-packages/peft/utils/other.py:689: UserWarning: Unable to fetch remote file due to the following error (ReadTimeoutError(\"HTTPSConnectionPool(host='huggingface.co', port=443): Read timed out. (read timeout=10)\"), '(Request ID: cd720404-f49e-42e5-b2b6-ea42cfae19ab)') - silently ignoring the lookup for the file config.json in Helsinki-NLP/opus-mt-en-hi.\n",
      "  warnings.warn(\n",
      "/opt/miniconda3/envs/work/lib/python3.9/site-packages/peft/utils/save_and_load.py:243: UserWarning: Could not find a config file in Helsinki-NLP/opus-mt-en-hi - will assume that the vocabulary was not modified.\n",
      "  warnings.warn(\n"
     ]
    },
    {
     "name": "stdout",
     "output_type": "stream",
     "text": [
      "{'loss': 2.2809, 'grad_norm': 0.6663594841957092, 'learning_rate': 3.0294272201786656e-05, 'epoch': 0.79}\n"
     ]
    },
    {
     "data": {
      "application/vnd.jupyter.widget-view+json": {
       "model_id": "09a83bbcce4748d9929d702467902d24",
       "version_major": 2,
       "version_minor": 0
      },
      "text/plain": [
       "  0%|          | 0/423 [00:00<?, ?it/s]"
      ]
     },
     "metadata": {},
     "output_type": "display_data"
    },
    {
     "name": "stdout",
     "output_type": "stream",
     "text": [
      "{'eval_loss': 2.198612928390503, 'eval_runtime': 70.1139, 'eval_samples_per_second': 48.25, 'eval_steps_per_second': 6.033, 'epoch': 1.0}\n",
      "{'loss': 2.2413, 'grad_norm': 0.5167800188064575, 'learning_rate': 2.3725696269048873e-05, 'epoch': 1.05}\n",
      "{'loss': 2.2147, 'grad_norm': 0.7370030283927917, 'learning_rate': 1.7157120336311088e-05, 'epoch': 1.31}\n",
      "{'loss': 2.2063, 'grad_norm': 0.5104997754096985, 'learning_rate': 1.0588544403573306e-05, 'epoch': 1.58}\n",
      "{'loss': 2.1934, 'grad_norm': 0.5723661184310913, 'learning_rate': 4.019968470835523e-06, 'epoch': 1.84}\n"
     ]
    },
    {
     "name": "stderr",
     "output_type": "stream",
     "text": [
      "/opt/miniconda3/envs/work/lib/python3.9/site-packages/peft/utils/other.py:689: UserWarning: Unable to fetch remote file due to the following error (ProtocolError('Connection aborted.', ConnectionResetError(54, 'Connection reset by peer')), '(Request ID: c5680a8b-54fb-4919-87f0-e95d28f98c59)') - silently ignoring the lookup for the file config.json in Helsinki-NLP/opus-mt-en-hi.\n",
      "  warnings.warn(\n",
      "/opt/miniconda3/envs/work/lib/python3.9/site-packages/peft/utils/save_and_load.py:243: UserWarning: Could not find a config file in Helsinki-NLP/opus-mt-en-hi - will assume that the vocabulary was not modified.\n",
      "  warnings.warn(\n"
     ]
    },
    {
     "data": {
      "application/vnd.jupyter.widget-view+json": {
       "model_id": "8dc9f6bfdfb04d83be39e83ece384b5c",
       "version_major": 2,
       "version_minor": 0
      },
      "text/plain": [
       "  0%|          | 0/423 [00:00<?, ?it/s]"
      ]
     },
     "metadata": {},
     "output_type": "display_data"
    },
    {
     "name": "stdout",
     "output_type": "stream",
     "text": [
      "{'eval_loss': 2.1613428592681885, 'eval_runtime': 70.0914, 'eval_samples_per_second': 48.266, 'eval_steps_per_second': 6.035, 'epoch': 2.0}\n",
      "{'train_runtime': 7020.9441, 'train_samples_per_second': 17.346, 'train_steps_per_second': 0.542, 'train_loss': 2.36861842642066, 'epoch': 2.0}\n"
     ]
    },
    {
     "data": {
      "text/plain": [
       "('./finetuned/epoch2/tokenizer_config.json',\n",
       " './finetuned/epoch2/special_tokens_map.json',\n",
       " './finetuned/epoch2/vocab.json',\n",
       " './finetuned/epoch2/source.spm',\n",
       " './finetuned/epoch2/target.spm',\n",
       " './finetuned/epoch2/added_tokens.json')"
      ]
     },
     "execution_count": 65,
     "metadata": {},
     "output_type": "execute_result"
    }
   ],
   "source": [
    "# configure LoRA\n",
    "print(f\"Before adding LoRA, All Params: {model.num_parameters()}\")\n",
    "\n",
    "lora_config = configure_lora(16, 32, 0.1, \"SEQ_2_SEQ_LM\", \"lora_only\", [\"q_proj\", \"k_proj\", \"v_proj\"])\n",
    "lora_model = get_peft_model(model, lora_config)\n",
    "get_trainable_parameters(model)\n",
    "\n",
    "# define training arguments and trainer\n",
    "training_args = train_args(\"./results/train/epoch2\", \"epoch\", 5e-5, 16, 2, 2, 1000, \"./logs\", 500, 2)\n",
    "train_dataset_tokenized = train_dataset_tokenized.with_transform(move_to_device)\n",
    "val_dataset_tokenized = val_dataset_tokenized.with_transform(move_to_device)\n",
    "train_trainer = trainer_train(lora_model, training_args, train_dataset_tokenized, val_dataset_tokenized, tokenizer)\n",
    "\n",
    "# train the model\n",
    "\n",
    "print(\"Finetuning the model using LoRA...\")\n",
    "train_trainer.train()\n",
    "\n",
    "# save the model\n",
    "lora_model.save_pretrained(\"./finetuned/epoch2\")\n",
    "tokenizer.save_pretrained(\"./finetuned/epoch2\")"
   ]
  },
  {
   "cell_type": "code",
   "execution_count": null,
   "metadata": {},
   "outputs": [],
   "source": [
    "# after finetuning, merge LoRA weights into the model\n",
    "print(\"Merging LoRA weights into the base model...\")\n",
    "lora_model.merge_lora_weights()\n",
    "\n",
    "# save the model with merged weights\n",
    "lora_model.save_pretrained(\"./finetuned_merged_model/\")\n",
    "\n",
    "# print the number of parameters after merging\n",
    "print(f\"Model parameters after merging: {lora_model.num_parameters()}\")"
   ]
  }
 ],
 "metadata": {
  "kernelspec": {
   "display_name": "work",
   "language": "python",
   "name": "python3"
  },
  "language_info": {
   "codemirror_mode": {
    "name": "ipython",
    "version": 3
   },
   "file_extension": ".py",
   "mimetype": "text/x-python",
   "name": "python",
   "nbconvert_exporter": "python",
   "pygments_lexer": "ipython3",
   "version": "3.9.20"
  }
 },
 "nbformat": 4,
 "nbformat_minor": 2
}
