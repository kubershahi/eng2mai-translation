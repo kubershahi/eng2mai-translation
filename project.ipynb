{
 "cells": [
  {
   "cell_type": "code",
   "execution_count": null,
   "metadata": {},
   "outputs": [],
   "source": [
    "import torch\n",
    "device = torch.device(\"mps\")\n",
    "\n",
    "import evaluate\n",
    "import sacrebleu\n",
    "from tqdm import tqdm\n",
    "\n",
    "from datasets import Dataset\n",
    "from peft import LoraConfig, get_peft_model\n",
    "from transformers import AutoModelForSeq2SeqLM, AutoTokenizer, Seq2SeqTrainer, Seq2SeqTrainingArguments"
   ]
  },
  {
   "cell_type": "markdown",
   "metadata": {},
   "source": [
    "### Part 1) Preparing and tokenizing the training datasets\n"
   ]
  },
  {
   "cell_type": "code",
   "execution_count": 36,
   "metadata": {},
   "outputs": [],
   "source": [
    "# function to prepare the training and any other dataset\n",
    "def prepare_data(eng_file_path, mai_file_path, data_type):\n",
    "    # load the english and maithili texts files\n",
    "    with open(eng_file_path, \"r\", encoding=\"utf-8\") as en_file:\n",
    "        eng_texts = en_file.readlines()\n",
    "\n",
    "    with open(mai_file_path, \"r\", encoding=\"utf-8\") as maithili_file:\n",
    "        mai_texts = maithili_file.readlines()\n",
    "\n",
    "    assert len(eng_texts) == len(mai_texts), \"The number of sentences in both files must be the same.\"\n",
    "\n",
    "    # clean the text files\n",
    "    eng_texts_cleaned = [text.strip() for text in eng_texts]\n",
    "    mai_texts_cleaned = [text.strip() for text in mai_texts]\n",
    "\n",
    "    # create the dataset\n",
    "    data = {\n",
    "        \"source_text\": eng_texts_cleaned,\n",
    "        \"target_text\": mai_texts_cleaned, \n",
    "    }\n",
    "    dataset = Dataset.from_dict(data)\n",
    "\n",
    "    # split the dataset into train, validation and test sets\n",
    "    if data_type == \"train\":\n",
    "        train_dataset, temp_dataset = dataset.train_test_split(test_size=0.1).values()\n",
    "        val_dataset, test_dataset = temp_dataset.train_test_split(test_size=0.5).values()\n",
    "\n",
    "        print(f\"Training set size: {len(train_dataset)}\")\n",
    "        print(f\"Validation set size: {len(val_dataset)}\")\n",
    "        print(f\"Test set size: {len(test_dataset)}\")\n",
    "\n",
    "        return train_dataset, val_dataset, test_dataset\n",
    "    elif data_type == \"test\":\n",
    "        return dataset\n",
    "\n",
    "# preprocessor function for tokenizer\n",
    "def preprocess_function(examples, tokenizer):\n",
    "    inputs = tokenizer(examples[\"source_text\"], truncation=True, padding=\"max_length\", max_length=128)\n",
    "    targets = tokenizer(examples[\"target_text\"], truncation=True, padding=\"max_length\", max_length=128)\n",
    "    inputs[\"labels\"] = targets[\"input_ids\"]\n",
    "    return inputs\n",
    "\n",
    "# function to tokenize the data\n",
    "def tokenize_dataset(dataset, tokenizer):\n",
    "    dataset_tokenized = dataset.map(lambda x: preprocess_function(x, tokenizer), batched=True)\n",
    "    return dataset_tokenized\n",
    "\n",
    "# function to move the dataset to device\n",
    "def move_to_device(batch):\n",
    "    # move each tensor in the batch to the MPS device\n",
    "    for key in batch:\n",
    "        batch[key] = torch.tensor(batch[key]).to(device)\n",
    "    return batch\n"
   ]
  },
  {
   "cell_type": "code",
   "execution_count": 37,
   "metadata": {},
   "outputs": [
    {
     "name": "stdout",
     "output_type": "stream",
     "text": [
      "Training set size: 60892\n",
      "Validation set size: 3383\n",
      "Test set size: 3383\n"
     ]
    },
    {
     "data": {
      "application/vnd.jupyter.widget-view+json": {
       "model_id": "0a24c045a306432eb788a9828b8da2fc",
       "version_major": 2,
       "version_minor": 0
      },
      "text/plain": [
       "Map:   0%|          | 0/60892 [00:00<?, ? examples/s]"
      ]
     },
     "metadata": {},
     "output_type": "display_data"
    },
    {
     "data": {
      "application/vnd.jupyter.widget-view+json": {
       "model_id": "6cfa540b3ce14f3bbfe6d9cfcf06a8d6",
       "version_major": 2,
       "version_minor": 0
      },
      "text/plain": [
       "Map:   0%|          | 0/3383 [00:00<?, ? examples/s]"
      ]
     },
     "metadata": {},
     "output_type": "display_data"
    },
    {
     "data": {
      "application/vnd.jupyter.widget-view+json": {
       "model_id": "4099779fc1794eba83fc947546f8a061",
       "version_major": 2,
       "version_minor": 0
      },
      "text/plain": [
       "Map:   0%|          | 0/3383 [00:00<?, ? examples/s]"
      ]
     },
     "metadata": {},
     "output_type": "display_data"
    }
   ],
   "source": [
    "# prepare the data\n",
    "train_dataset, val_dataset, test_dataset = prepare_data(\"./dataset/train/bpcc/train.eng_Latn\", \"./dataset/train/bpcc/train.mai_Deva\", \"train\")\n",
    "\n",
    "# tokenize the data\n",
    "tokenizer = AutoTokenizer.from_pretrained(\"Helsinki-NLP/opus-mt-en-hi\") # load the tokenizer\n",
    "train_dataset_tokenized = tokenize_dataset(train_dataset, tokenizer)\n",
    "val_dataset_tokenized = tokenize_dataset(val_dataset, tokenizer)\n",
    "test_dataset_tokenized = tokenize_dataset(test_dataset, tokenizer)\n",
    "\n",
    "# # saving dataset to csv (backup)\n",
    "# train_dataset_tokenized.to_csv(\"./dataset/training/bpcc/train_dataset.csv\")\n",
    "# val_dataset_tokenized.to_csv(\"./dataset/training/bpcc/val_dataset.csv\")\n",
    "# test_dataset_tokenized.to_csv(\"./dataset/training/bpcc/test_dataset.csv\")\n"
   ]
  },
  {
   "cell_type": "code",
   "execution_count": 38,
   "metadata": {},
   "outputs": [
    {
     "name": "stdout",
     "output_type": "stream",
     "text": [
      "Source text:  The Flyers ended up winning the game 5-3, adding yet another loss to an already disappointing Bruins season.\n",
      "Target text:  फ्लायर्स मैच केँ ५-३ सँ जीति कऽ ब्रून्सक पहिनहिसँ निराशाजनक सत्र में एक टा आर पराजय जोड़लनि।\n",
      "Source tokens:  ['▁The', '▁F', 'ly', 'ers', '▁ended', '▁up', '▁winning', '▁the', '▁game', '▁5', '-3', ',', '▁adding', '▁yet', '▁another', '▁loss', '▁to', '▁an', '▁already', '▁disappointing', '▁Bru', 'in', 's', '▁season', '.', '</s>', '<pad>', '<pad>', '<pad>', '<pad>', '<pad>', '<pad>', '<pad>', '<pad>', '<pad>', '<pad>', '<pad>', '<pad>', '<pad>', '<pad>', '<pad>', '<pad>', '<pad>', '<pad>', '<pad>', '<pad>', '<pad>', '<pad>', '<pad>', '<pad>', '<pad>', '<pad>', '<pad>', '<pad>', '<pad>', '<pad>', '<pad>', '<pad>', '<pad>', '<pad>', '<pad>', '<pad>', '<pad>', '<pad>', '<pad>', '<pad>', '<pad>', '<pad>', '<pad>', '<pad>', '<pad>', '<pad>', '<pad>', '<pad>', '<pad>', '<pad>', '<pad>', '<pad>', '<pad>', '<pad>', '<pad>', '<pad>', '<pad>', '<pad>', '<pad>', '<pad>', '<pad>', '<pad>', '<pad>', '<pad>', '<pad>', '<pad>', '<pad>', '<pad>', '<pad>', '<pad>', '<pad>', '<pad>', '<pad>', '<pad>', '<pad>', '<pad>', '<pad>', '<pad>', '<pad>', '<pad>', '<pad>', '<pad>', '<pad>', '<pad>', '<pad>', '<pad>', '<pad>', '<pad>', '<pad>', '<pad>', '<pad>', '<pad>', '<pad>', '<pad>', '<pad>', '<pad>', '<pad>', '<pad>', '<pad>', '<pad>', '<pad>', '<pad>']\n",
      "Target tokens:  ['▁', 'फ', '्', 'ल', 'ा', 'य', 'र', '्', 'स', '▁', 'म', '<unk>', '▁', '<unk>', '▁', '५', '-', '३', '▁', '<unk>', '▁', 'ज', 'ी', 'ति', '▁', '<unk>', '▁', 'ब', '्', 'र', 'ू', 'न', '्', 'सक', '▁', 'प', '<unk>', 'न', '<unk>', '▁', 'न', 'ि', 'र', 'ा', 'श', 'ा', 'ज', 'न', 'क', '▁', 'सत', '्', 'र', '▁', 'म', 'े', 'ं', '▁', 'ए', 'क', '▁', 'ट', 'ा', '▁', 'आ', 'र', '▁', 'प', 'र', 'ा', '<unk>', '▁', 'ज', 'ो', 'ड', '़', 'ल', 'न', '<unk>', '</s>', '<pad>', '<pad>', '<pad>', '<pad>', '<pad>', '<pad>', '<pad>', '<pad>', '<pad>', '<pad>', '<pad>', '<pad>', '<pad>', '<pad>', '<pad>', '<pad>', '<pad>', '<pad>', '<pad>', '<pad>', '<pad>', '<pad>', '<pad>', '<pad>', '<pad>', '<pad>', '<pad>', '<pad>', '<pad>', '<pad>', '<pad>', '<pad>', '<pad>', '<pad>', '<pad>', '<pad>', '<pad>', '<pad>', '<pad>', '<pad>', '<pad>', '<pad>', '<pad>', '<pad>', '<pad>', '<pad>', '<pad>', '<pad>']\n"
     ]
    }
   ],
   "source": [
    "# checking the tokenization and vocab subwords\n",
    "print(\"Source text: \", train_dataset_tokenized[0][\"source_text\"])\n",
    "print(\"Target text: \", train_dataset_tokenized[0][\"target_text\"])\n",
    "print(\"Source tokens: \", tokenizer.convert_ids_to_tokens(train_dataset_tokenized[0][\"input_ids\"]))\n",
    "print(\"Target tokens: \", tokenizer.convert_ids_to_tokens(train_dataset_tokenized[0][\"labels\"]))\n",
    "\n",
    "# save the tokenized output to a text file\n",
    "with open(\"dataset/training/tokenized_output.txt\", \"w\", encoding=\"utf-8\") as f:\n",
    "    f.write(train_dataset_tokenized[0][\"source_text\"] + \"\\n\")\n",
    "    f.write(train_dataset_tokenized[0][\"target_text\"] + \"\\n\")\n",
    "    f.write(\" \".join(tokenizer.convert_ids_to_tokens(train_dataset_tokenized[0][\"input_ids\"])) + \"\\n\")\n",
    "    f.write(\" \".join(tokenizer.convert_ids_to_tokens(train_dataset_tokenized[0][\"labels\"])) + \"\\n\")"
   ]
  },
  {
   "cell_type": "markdown",
   "metadata": {},
   "source": [
    "### Part 2) Loading the pretrained model and testing its performance on benchmark datasets\n"
   ]
  },
  {
   "cell_type": "code",
   "execution_count": 56,
   "metadata": {},
   "outputs": [
    {
     "name": "stdout",
     "output_type": "stream",
     "text": [
      "Parameter Size (pretrained):  76381184\n",
      "English Text:  An appearance is a bunch of attributes related to the service person, like their shoes, clothes, tie, jewellery, hairstyle, make-up, watch, cosmetics, perfume, etc.\n",
      "Hindi Text:  सेवा संबंधी लोगों के लिए भेष कई गुणों का संयोजन है, जैसे कि उनके जूते, कपड़े, टाई, आभूषण, केश शैली, मेक-अप, घड़ी, कॉस्मेटिक, इत्र, आदि।\n",
      "Maithili Text:  रूप सर्विसवला व्यक्तिसँ सम्बन्धित बहुत रास लक्षणक समूह होयत छै जेना हुनक जूता, कपड़ा, टाई, गहना, केश, श्रृंगार, घड़ी, प्रसाधन सामग्री, सेंट इत्यादि।\n"
     ]
    },
    {
     "data": {
      "application/vnd.jupyter.widget-view+json": {
       "model_id": "4ddfc9e9a4ea4aeab3fab42dfa11e289",
       "version_major": 2,
       "version_minor": 0
      },
      "text/plain": [
       "Map:   0%|          | 0/1024 [00:00<?, ? examples/s]"
      ]
     },
     "metadata": {},
     "output_type": "display_data"
    },
    {
     "data": {
      "application/vnd.jupyter.widget-view+json": {
       "model_id": "cef892ebe5a74bd2988d60fc04038be9",
       "version_major": 2,
       "version_minor": 0
      },
      "text/plain": [
       "Map:   0%|          | 0/1024 [00:00<?, ? examples/s]"
      ]
     },
     "metadata": {},
     "output_type": "display_data"
    }
   ],
   "source": [
    "# load the model\n",
    "model_name = \"Helsinki-NLP/opus-mt-en-hi\"\n",
    "model = AutoModelForSeq2SeqLM.from_pretrained(model_name)\n",
    "print(\"Parameter Size (pretrained): \", model.num_parameters())\n",
    "\n",
    "# prepare the in22 benchmark datasets\n",
    "in22_hin_test = prepare_data(\"./dataset/test/IN22_test/gen/test.eng_Latn\", \"./dataset/test/IN22_test/gen/test.hin_Deva\", \"test\")\n",
    "in22_mai_test = prepare_data(\"./dataset/test/IN22_test/gen/test.eng_Latn\", \"./dataset//test/IN22_test/gen/test.mai_Deva\", \"test\")\n",
    "\n",
    "print(\"English Text: \", in22_hin_test[0][\"source_text\"])\n",
    "print(\"Hindi Text: \", in22_hin_test[0][\"target_text\"])\n",
    "print(\"Maithili Text: \", in22_mai_test[0][\"target_text\"])\n",
    "\n",
    "# tokenize the in22 benchmark datasets\n",
    "in22_hin_test_tokenized = tokenize_dataset(in22_hin_test, tokenizer)\n",
    "in22_mai_test_tokenized = tokenize_dataset(in22_mai_test, tokenizer)\n"
   ]
  },
  {
   "cell_type": "code",
   "execution_count": 54,
   "metadata": {},
   "outputs": [],
   "source": [
    "#testing the pretrained model on the in22 benchmark datasets\n",
    "\n",
    "# generate predictions for english to hindi\n",
    "def generate_predictions(model, tokenizer, test_dataset):\n",
    "    predictions = []\n",
    "    references = []\n",
    "    \n",
    "    model.eval()  # set model to evaluation mode\n",
    "    for example in tqdm(test_dataset, desc=\"Generating predictions: \", unit=\"example\"):\n",
    "        inputs = torch.tensor(example['input_ids']).unsqueeze(0).to(model.device)  # move input to device\n",
    "        attention_mask = torch.tensor(example['attention_mask']).unsqueeze(0).to(model.device) # move attention mask to device\n",
    "        \n",
    "        with torch.no_grad():\n",
    "            output = model.generate(inputs, attention_mask=attention_mask, max_length=128) # generate the output\n",
    "        \n",
    "        prediction = tokenizer.decode(output[0], skip_special_tokens=True) # decode the output\n",
    "        target = example['target_text']  # if the target is already a string\n",
    "        \n",
    "        predictions.append(prediction)\n",
    "        references.append(target)\n",
    "    \n",
    "    return predictions, references\n",
    "\n",
    "# define trainer for evaluation\n",
    "def trainer_evaluate(model, tokenizer, test_dataset):\n",
    "\n",
    "    eval_trainer = Seq2SeqTrainer(\n",
    "        model=model,\n",
    "        args = Seq2SeqTrainingArguments(\n",
    "            output_dir=\"./results/test/\",\n",
    "            per_device_eval_batch_size=32,\n",
    "            predict_with_generate=True,\n",
    "        ), \n",
    "        eval_dataset=test_dataset,\n",
    "        tokenizer=tokenizer,\n",
    "    )\n",
    "\n",
    "    return eval_trainer\n",
    "\n",
    "def compute_chrf(predictions, references):\n",
    "    chrf = evaluate.load(\"chrf\")\n",
    "    chrf_score = chrf.compute(predictions=predictions, references=references)\n",
    "    return chrf_score\n"
   ]
  },
  {
   "cell_type": "code",
   "execution_count": null,
   "metadata": {},
   "outputs": [
    {
     "data": {
      "application/vnd.jupyter.widget-view+json": {
       "model_id": "a0609dcb291049c1a72bb4832ea6f626",
       "version_major": 2,
       "version_minor": 0
      },
      "text/plain": [
       "  0%|          | 0/32 [00:00<?, ?it/s]"
      ]
     },
     "metadata": {},
     "output_type": "display_data"
    }
   ],
   "source": [
    "# move the model and in22 testdata to the MPS device\n",
    "model = model.to(device)\n",
    "in22_hin_test_tokenized = in22_hin_test_tokenized.with_transform(move_to_device)\n",
    "eval_trainer = trainer_evaluate(model, tokenizer, in22_hin_test_tokenized)\n",
    "hin_pred, hin_lab, _ = eval_trainer.predict(in22_hin_test_tokenized)\n",
    "\n",
    "hin_pred = tokenizer.batch_decode(hin_pred, skip_special_tokens=True)\n",
    "hin_ref = tokenizer.batch_decode(hin_lab, skip_special_tokens=True)"
   ]
  },
  {
   "cell_type": "code",
   "execution_count": 57,
   "metadata": {},
   "outputs": [
    {
     "name": "stdout",
     "output_type": "stream",
     "text": [
      "English Text:  An appearance is a bunch of attributes related to the service person, like their shoes, clothes, tie, jewellery, hairstyle, make-up, watch, cosmetics, perfume, etc.\n",
      "Hindi Reference:  एक फैशन सेवा व्यक्ति से संबंधित गुणों का एक गुच्छा है, उनके जूते, कपड़े, टाई, बाल शैली, बनाएँ- अप, उपभोग, इत्र, इत्र, इत्यादि.\n",
      "Hindi Prediction:  सेवा संबंधी लोगों के लिए  कई गों का संयोजन है, जैसे कि उनके , कपड़े, टाई, आ,  शैली, मेक-अप, ़ी, कॉस्मेटिक, इत्र, आ\n",
      "\n",
      "\n",
      "English Text:  Ajanta, located in the Aurangabad District of Maharashtra has twenty-nine caitya and vihara caves decorated with sculptures and paintings from the first century B.C.E. to the fifth century C.E.\n",
      "Hindi Reference:  पू. पहली सदी से लेकर सा. यु.\n",
      "Hindi Prediction:  महाराष्ट्र के औरंगाबाद जिले में स्थित ंता में उन्तीस ्य और ार गुफाएँ हैं जो पहली ाब्दी ई.पू. से ले कर पाीं ाब्दी ्वी तक की मूर\n",
      "\n",
      "\n",
      "chrF++ score for English-Hindi translation: 28.888480881961343\n",
      "chrF++ score for Hindi-Maithili overlap: 25.91324614465444\n"
     ]
    }
   ],
   "source": [
    "# hin_pred = tokenizer.batch_decode(hin_pred, skip_special_tokens=True)\n",
    "# hin_ref = tokenizer.batch_decode(hin_lab, skip_special_tokens=True)\n",
    "\n",
    "for i in range(2):\n",
    "    print(\"English Text: \", in22_hin_test[i][\"source_text\"])\n",
    "    print(\"Hindi Reference: \", hin_pred[i])\n",
    "    print(\"Hindi Prediction: \", hin_ref[i])\n",
    "    print(\"\\n\")\n",
    "\n",
    "# calculate chrF++ score for english to hindi translation\n",
    "chrf_score_hin = compute_chrf(hin_pred, hin_ref)\n",
    "print(f\"chrF++ score for English-Hindi translation: {chrf_score_hin['score']}\")\n",
    "\n",
    "# calculate chrF++ score for hindi to maithili overlap\n",
    "mai_ref = in22_mai_test[\"target_text\"]\n",
    "chrf_score_mai = compute_chrf(hin_ref, mai_ref)\n",
    "print(f\"chrF++ score for Hindi-Maithili overlap: {chrf_score_mai['score']}\")\n"
   ]
  },
  {
   "cell_type": "markdown",
   "metadata": {},
   "source": [
    "### Part 3) Setting up LoRA and fine tuning the pretrained model\n"
   ]
  },
  {
   "cell_type": "code",
   "execution_count": 58,
   "metadata": {},
   "outputs": [],
   "source": [
    "def configure_lora(rank, lora_alpha, lora_dropout, task_type, bias, target_modules):\n",
    "\n",
    "    lora_config = LoraConfig(\n",
    "        r=rank,  # rank of the low-rank adaptation\n",
    "        lora_alpha=lora_alpha,  # scaling factor for the LoRA layers\n",
    "        lora_dropout=lora_dropout,  # dropout for the LoRA layers\n",
    "        task_type=task_type, # task type\n",
    "        bias=bias,  # set bias as 'none', 'all', or 'lora_only'\n",
    "        target_modules=target_modules  # specify the target modules\n",
    "    )\n",
    "\n",
    "    return lora_config\n",
    "\n",
    "def train_args(output_dir, eval_stra, learning_r, batch_size, grad_step, num_train_epochs, \n",
    "            save_steps, logging_dir, logging_steps, save_total_limit):\n",
    "\n",
    "    training_args = Seq2SeqTrainingArguments(\n",
    "        output_dir=output_dir,  # directory to save results\n",
    "        eval_strategy=eval_stra,  # strategy for evaluation\n",
    "        learning_rate=learning_r,  # learnin rate for fine-tuning\n",
    "        per_device_train_batch_size=batch_size,  # batch size\n",
    "        gradient_accumulation_steps= grad_step, # step for backpropagation\n",
    "        num_train_epochs=num_train_epochs,  # number of training epochs\n",
    "        save_steps=save_steps,  # save checkpoints after this many steps\n",
    "        logging_dir=logging_dir,  # directory for logs\n",
    "        logging_steps=logging_steps, # log after this many steps\n",
    "        save_total_limit=save_total_limit,  # limit number of saved checkpoints\n",
    "    )\n",
    "\n",
    "    return training_args\n",
    "\n",
    "def trainer_train(model, training_args, train_dataset, val_dataset, tokenizer):\n",
    "\n",
    "    trainer = Seq2SeqTrainer(\n",
    "        model=model,  # model to be fine-tuned\n",
    "        args=training_args,  # training arguments\n",
    "        train_dataset=train_dataset,  # tokenized training dataset\n",
    "        eval_dataset=val_dataset, # tokenized validation dataset\n",
    "        tokenizer=tokenizer  # tokenizer for tokenization\n",
    "    )\n",
    "\n",
    "    return trainer"
   ]
  },
  {
   "cell_type": "code",
   "execution_count": null,
   "metadata": {},
   "outputs": [],
   "source": [
    "# configure LoRA\n",
    "print(f\"Before adding LoRA, Parameter Size: {model.num_parameters()}\")\n",
    "\n",
    "lora_config = configure_lora(8, 16, 0.1, \"SEQ_2_SEQ_LM\", \"none\", [\"q_proj\", \"v_proj\"])\n",
    "model = get_peft_model(model, lora_config)\n",
    "print(f\"After adding LoRA, Parameter Size: {model.num_parameters()}\")\n",
    "\n",
    "# define training arguments and trainer\n",
    "training_args = train_args(\"./results/train\", \"epoch\", 5e-5, 16, 2, 1, 1000, \"./logs\", 500, 2)\n",
    "train_trainer = trainer_train(model, training_args, train_dataset_tokenized, val_dataset_tokenized, tokenizer)"
   ]
  }
 ],
 "metadata": {
  "kernelspec": {
   "display_name": "work",
   "language": "python",
   "name": "python3"
  },
  "language_info": {
   "codemirror_mode": {
    "name": "ipython",
    "version": 3
   },
   "file_extension": ".py",
   "mimetype": "text/x-python",
   "name": "python",
   "nbconvert_exporter": "python",
   "pygments_lexer": "ipython3",
   "version": "3.9.20"
  }
 },
 "nbformat": 4,
 "nbformat_minor": 2
}
